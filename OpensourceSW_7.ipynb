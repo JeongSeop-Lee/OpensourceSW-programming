{
  "nbformat": 4,
  "nbformat_minor": 0,
  "metadata": {
    "colab": {
      "provenance": []
    },
    "kernelspec": {
      "name": "python3",
      "display_name": "Python 3"
    },
    "language_info": {
      "name": "python"
    }
  },
  "cells": [
    {
      "cell_type": "code",
      "source": [
        "from abc import ABC, abstractmethod\n",
        "from collections import namedtuple\n",
        "\n",
        "Customer = namedtuple('Customer', 'name fidelity')"
      ],
      "metadata": {
        "id": "trPj7WAIdyKq"
      },
      "execution_count": 1,
      "outputs": []
    },
    {
      "cell_type": "code",
      "source": [
        "jack = Customer('Park', 100)\n",
        "jack"
      ],
      "metadata": {
        "colab": {
          "base_uri": "https://localhost:8080/"
        },
        "id": "05n1Met7dzF3",
        "outputId": "e4be2537-6d79-4bd3-a04f-ba91a2e9b239"
      },
      "execution_count": 2,
      "outputs": [
        {
          "output_type": "execute_result",
          "data": {
            "text/plain": [
              "Customer(name='Park', fidelity=100)"
            ]
          },
          "metadata": {},
          "execution_count": 2
        }
      ]
    },
    {
      "cell_type": "code",
      "source": [
        "class LineItem:\n",
        "  def __init__(self, product, quantity, price):\n",
        "    self.product = product\n",
        "    self.quantity = quantity\n",
        "    self.price = price\n",
        "\n",
        "  def total(self):\n",
        "    return self.price * self.quantity"
      ],
      "metadata": {
        "id": "L_kHwWwxeB69"
      },
      "execution_count": 3,
      "outputs": []
    },
    {
      "cell_type": "code",
      "source": [
        "class Order:\n",
        "  def __init__(self, customer, cart, promotion=None):\n",
        "    self.customer = customer\n",
        "    self.cart = list(cart)\n",
        "    self.promotion = promotion\n",
        "\n",
        "  def total(self):\n",
        "    if not hasattr(self, '__total'):\n",
        "      self.__total = sum(item.total() for item in self.cart)\n",
        "    return self.__total\n",
        "\n",
        "  def due(self):\n",
        "    if self.promotion is None:\n",
        "      discount = 0\n",
        "    else:\n",
        "      discount = self.promotion.discount(self)\n",
        "    return self.total() - discount\n",
        "\n",
        "  def __repr__(self):\n",
        "    fmt = '<Order total: {:.2f} due: {:.2f}>'\n",
        "    return fmt.format(self.total(), self.due())"
      ],
      "metadata": {
        "id": "35BR3F5bfRaQ"
      },
      "execution_count": 4,
      "outputs": []
    },
    {
      "cell_type": "code",
      "source": [
        "class Promotion(ABC):\n",
        "  @abstractmethod\n",
        "  def discount(self, order):\n",
        "    pass"
      ],
      "metadata": {
        "id": "JlgWj_OghYC8"
      },
      "execution_count": 5,
      "outputs": []
    },
    {
      "cell_type": "code",
      "source": [
        "class FidelityPromo(Promotion):\n",
        "  def discount(self, order):\n",
        "    return order.total() * 0.05 if order.customer.fidelity >= 1000 else 0\n",
        "\n",
        "class BulkItemPromo(Promotion):\n",
        "  def discount(self, order):\n",
        "    discount = 0\n",
        "    for item in order.cart:\n",
        "      if item.quantity >= 20:\n",
        "        discount += item.total() * 0.1\n",
        "    return discount\n",
        "\n",
        "class LargeOrderPromo(Promotion):\n",
        "  def discount(self, order):\n",
        "    distinct_items = {item.product for item in order.cart}\n",
        "    if len(distinct_items) >= 10:\n",
        "      return order.total() * 0.07\n",
        "    return 0"
      ],
      "metadata": {
        "id": "KoobMX7Pwsi0"
      },
      "execution_count": 6,
      "outputs": []
    },
    {
      "cell_type": "code",
      "source": [
        "joe = Customer('John Doe', 0)\n",
        "ann = Customer('Ann Smith', 1100)\n",
        "cart = [LineItem('banana', 4, .5),\n",
        "        LineItem('appel', 10, 1.5),\n",
        "        LineItem('watermellon',5,5.0)]"
      ],
      "metadata": {
        "id": "dxSNSgoQwxx8"
      },
      "execution_count": 7,
      "outputs": []
    },
    {
      "cell_type": "code",
      "source": [
        "Order(joe, cart, FidelityPromo())"
      ],
      "metadata": {
        "colab": {
          "base_uri": "https://localhost:8080/"
        },
        "id": "A3OjwGvExSv0",
        "outputId": "573aafc9-eb17-4ab0-8b7c-0a1791bd92a3"
      },
      "execution_count": 8,
      "outputs": [
        {
          "output_type": "execute_result",
          "data": {
            "text/plain": [
              "<Order total: 42.00 due: 42.00>"
            ]
          },
          "metadata": {},
          "execution_count": 8
        }
      ]
    },
    {
      "cell_type": "code",
      "source": [
        "Order(ann, cart, FidelityPromo())"
      ],
      "metadata": {
        "colab": {
          "base_uri": "https://localhost:8080/"
        },
        "id": "_eSRxt-vxkOt",
        "outputId": "4e91ea3a-0dae-42d4-c2f2-9625244773a1"
      },
      "execution_count": 9,
      "outputs": [
        {
          "output_type": "execute_result",
          "data": {
            "text/plain": [
              "<Order total: 42.00 due: 39.90>"
            ]
          },
          "metadata": {},
          "execution_count": 9
        }
      ]
    },
    {
      "cell_type": "code",
      "source": [
        "banana_cart = [LineItem('banana', 30, .5),\n",
        "               LineItem('apple', 10, 1.5)]"
      ],
      "metadata": {
        "id": "rfuLV0UOybt_"
      },
      "execution_count": 10,
      "outputs": []
    },
    {
      "cell_type": "code",
      "source": [
        "Order(joe, banana_cart, BulkItemPromo())"
      ],
      "metadata": {
        "colab": {
          "base_uri": "https://localhost:8080/"
        },
        "id": "tgI-0WuoylQC",
        "outputId": "a0c4542b-0454-49b3-f02a-2ab97ab2f17b"
      },
      "execution_count": 11,
      "outputs": [
        {
          "output_type": "execute_result",
          "data": {
            "text/plain": [
              "<Order total: 30.00 due: 28.50>"
            ]
          },
          "metadata": {},
          "execution_count": 11
        }
      ]
    },
    {
      "cell_type": "code",
      "source": [
        "long_order = [LineItem(str(item_code), 1, 1.0) for item_code in range(10)]"
      ],
      "metadata": {
        "id": "r69ya0ddza3a"
      },
      "execution_count": 12,
      "outputs": []
    },
    {
      "cell_type": "code",
      "source": [
        "Order(joe, long_order, LargeOrderPromo())"
      ],
      "metadata": {
        "colab": {
          "base_uri": "https://localhost:8080/"
        },
        "id": "1dH47AV8z1t5",
        "outputId": "08edbac3-479a-4c54-b19d-7a8c69ef0aef"
      },
      "execution_count": 13,
      "outputs": [
        {
          "output_type": "execute_result",
          "data": {
            "text/plain": [
              "<Order total: 10.00 due: 9.30>"
            ]
          },
          "metadata": {},
          "execution_count": 13
        }
      ]
    },
    {
      "cell_type": "code",
      "source": [
        "Order(joe, cart, LargeOrderPromo())"
      ],
      "metadata": {
        "colab": {
          "base_uri": "https://localhost:8080/"
        },
        "id": "5TBJkgX1z8l-",
        "outputId": "81de0256-1990-48f8-e382-b868803cf895"
      },
      "execution_count": 14,
      "outputs": [
        {
          "output_type": "execute_result",
          "data": {
            "text/plain": [
              "<Order total: 42.00 due: 42.00>"
            ]
          },
          "metadata": {},
          "execution_count": 14
        }
      ]
    },
    {
      "cell_type": "code",
      "source": [
        "class Order:\n",
        "  def __init__(self, customer, cart, promotion=None):\n",
        "    self.customer = customer\n",
        "    self.cart = list(cart)\n",
        "    self.promotion = promotion\n",
        "\n",
        "  def total(self):\n",
        "    if not hasattr(self, '__total'):\n",
        "      self.__total = sum(item.total() for item in self.cart)\n",
        "    return self.__total\n",
        "\n",
        "  def due(self):\n",
        "    if self.promotion is None:\n",
        "      discount = 0\n",
        "    else:\n",
        "      discount = self.promotion(self)\n",
        "    return self.total() - discount\n",
        "\n",
        "  def __repr__(self):\n",
        "    fmt = '<Order total: {:.2f} due: {:.2f}>'\n",
        "    return fmt.format(self.total(), self.due())"
      ],
      "metadata": {
        "id": "IbOm3VlbcEDA"
      },
      "execution_count": 15,
      "outputs": []
    },
    {
      "cell_type": "code",
      "source": [
        "def fidelity_promo(order):\n",
        "  return order.total() * 0.05 if order.customer.fidelity >= 1000 else 0\n",
        "\n",
        "def bulk_item_promo(order):\n",
        "  discount = 0\n",
        "  for item in order.cart:\n",
        "    if item.quantity >= 20:\n",
        "      discount += item.total() * 0.1\n",
        "  return discount\n",
        "\n",
        "def large_order_promo(order):\n",
        "  distinct_items = {item.product for item in order.cart}\n",
        "  if len(distinct_items) >= 10:\n",
        "    return order.total() * 0.07\n",
        "  return 0"
      ],
      "metadata": {
        "id": "JYqm2EMBcFZp"
      },
      "execution_count": 16,
      "outputs": []
    },
    {
      "cell_type": "code",
      "source": [
        "Order(joe, cart, fidelity_promo)"
      ],
      "metadata": {
        "colab": {
          "base_uri": "https://localhost:8080/"
        },
        "id": "TUkLIm5cdHwD",
        "outputId": "ed294457-6469-4ab2-d92d-c7ed4d9081b7"
      },
      "execution_count": 17,
      "outputs": [
        {
          "output_type": "execute_result",
          "data": {
            "text/plain": [
              "<Order total: 42.00 due: 42.00>"
            ]
          },
          "metadata": {},
          "execution_count": 17
        }
      ]
    },
    {
      "cell_type": "code",
      "source": [
        "Order(ann, cart, fidelity_promo)"
      ],
      "metadata": {
        "colab": {
          "base_uri": "https://localhost:8080/"
        },
        "id": "V4UyMGRgdMof",
        "outputId": "d23e07e7-db37-4b22-e2c5-fa9df2cbc5bf"
      },
      "execution_count": 18,
      "outputs": [
        {
          "output_type": "execute_result",
          "data": {
            "text/plain": [
              "<Order total: 42.00 due: 39.90>"
            ]
          },
          "metadata": {},
          "execution_count": 18
        }
      ]
    },
    {
      "cell_type": "code",
      "source": [
        "Order(joe, banana_cart, bulk_item_promo)"
      ],
      "metadata": {
        "colab": {
          "base_uri": "https://localhost:8080/"
        },
        "id": "fJFeTDledMwz",
        "outputId": "b6a85e1e-f9b0-4558-e706-bfb9983f58fb"
      },
      "execution_count": 19,
      "outputs": [
        {
          "output_type": "execute_result",
          "data": {
            "text/plain": [
              "<Order total: 30.00 due: 28.50>"
            ]
          },
          "metadata": {},
          "execution_count": 19
        }
      ]
    },
    {
      "cell_type": "code",
      "source": [
        "Order(ann, long_order, large_order_promo)"
      ],
      "metadata": {
        "colab": {
          "base_uri": "https://localhost:8080/"
        },
        "id": "5DZoBwESdM4I",
        "outputId": "25c1193b-0d7d-49ca-fdfc-5a6a9a7e833c"
      },
      "execution_count": 20,
      "outputs": [
        {
          "output_type": "execute_result",
          "data": {
            "text/plain": [
              "<Order total: 10.00 due: 9.30>"
            ]
          },
          "metadata": {},
          "execution_count": 20
        }
      ]
    },
    {
      "cell_type": "code",
      "source": [
        "promos = [fidelity_promo, bulk_item_promo, large_order_promo]\n",
        "\n",
        "def best_promo(order):\n",
        "  return max(promo(order) for promo in promos)"
      ],
      "metadata": {
        "id": "Wx3PIJf7djEv"
      },
      "execution_count": 21,
      "outputs": []
    },
    {
      "cell_type": "code",
      "source": [
        "Order(joe, long_order, best_promo)"
      ],
      "metadata": {
        "colab": {
          "base_uri": "https://localhost:8080/"
        },
        "id": "4dedR8NsdjtQ",
        "outputId": "da11127e-80c7-479d-9fc3-83898a6c2342"
      },
      "execution_count": 22,
      "outputs": [
        {
          "output_type": "execute_result",
          "data": {
            "text/plain": [
              "<Order total: 10.00 due: 9.30>"
            ]
          },
          "metadata": {},
          "execution_count": 22
        }
      ]
    },
    {
      "cell_type": "code",
      "source": [
        "Order(joe, banana_cart, best_promo)"
      ],
      "metadata": {
        "colab": {
          "base_uri": "https://localhost:8080/"
        },
        "id": "FpiwvhZUdpzH",
        "outputId": "6657459a-f991-4c31-a712-27472fc2f32c"
      },
      "execution_count": 23,
      "outputs": [
        {
          "output_type": "execute_result",
          "data": {
            "text/plain": [
              "<Order total: 30.00 due: 28.50>"
            ]
          },
          "metadata": {},
          "execution_count": 23
        }
      ]
    },
    {
      "cell_type": "code",
      "source": [
        "Order(ann, cart, best_promo)"
      ],
      "metadata": {
        "colab": {
          "base_uri": "https://localhost:8080/"
        },
        "id": "N6sVso3IdstA",
        "outputId": "e1925b88-41c1-4bc2-e7ad-f2bdedb7ef5c"
      },
      "execution_count": 24,
      "outputs": [
        {
          "output_type": "execute_result",
          "data": {
            "text/plain": [
              "<Order total: 42.00 due: 39.90>"
            ]
          },
          "metadata": {},
          "execution_count": 24
        }
      ]
    },
    {
      "cell_type": "code",
      "source": [
        "globals().keys()"
      ],
      "metadata": {
        "colab": {
          "base_uri": "https://localhost:8080/"
        },
        "id": "B_ER8i1Fdxqx",
        "outputId": "2ec9d60e-948d-4d5c-f221-b5ae5a304241"
      },
      "execution_count": 25,
      "outputs": [
        {
          "output_type": "execute_result",
          "data": {
            "text/plain": [
              "dict_keys(['__name__', '__doc__', '__package__', '__loader__', '__spec__', '__builtin__', '__builtins__', '_ih', '_oh', '_dh', 'In', 'Out', 'get_ipython', 'exit', 'quit', '_', '__', '___', '_i', '_ii', '_iii', '_i1', 'ABC', 'abstractmethod', 'namedtuple', 'Customer', '_i2', 'jack', '_2', '_i3', 'LineItem', '_i4', 'Order', '_i5', 'Promotion', '_i6', 'FidelityPromo', 'BulkItemPromo', 'LargeOrderPromo', '_i7', 'joe', 'ann', 'cart', '_i8', '_8', '_i9', '_9', '_i10', 'banana_cart', '_i11', '_11', '_i12', 'long_order', '_i13', '_13', '_i14', '_14', '_i15', '_i16', 'fidelity_promo', 'bulk_item_promo', 'large_order_promo', '_i17', '_17', '_i18', '_18', '_i19', '_19', '_i20', '_20', '_i21', 'promos', 'best_promo', '_i22', '_22', '_i23', '_23', '_i24', '_24', '_i25'])"
            ]
          },
          "metadata": {},
          "execution_count": 25
        }
      ]
    },
    {
      "cell_type": "code",
      "source": [
        "globals()['best_promo']"
      ],
      "metadata": {
        "colab": {
          "base_uri": "https://localhost:8080/",
          "height": 103
        },
        "id": "6r84Gcqud45t",
        "outputId": "91558eb2-aede-4422-a925-0f92a6f07266"
      },
      "execution_count": 26,
      "outputs": [
        {
          "output_type": "execute_result",
          "data": {
            "text/plain": [
              "<function __main__.best_promo(order)>"
            ],
            "text/html": [
              "<div style=\"max-width:800px; border: 1px solid var(--colab-border-color);\"><style>\n",
              "      pre.function-repr-contents {\n",
              "        overflow-x: auto;\n",
              "        padding: 8px 12px;\n",
              "        max-height: 500px;\n",
              "      }\n",
              "\n",
              "      pre.function-repr-contents.function-repr-contents-collapsed {\n",
              "        cursor: pointer;\n",
              "        max-height: 100px;\n",
              "      }\n",
              "    </style>\n",
              "    <pre style=\"white-space: initial; background:\n",
              "         var(--colab-secondary-surface-color); padding: 8px 12px;\n",
              "         border-bottom: 1px solid var(--colab-border-color);\"><b>best_promo</b><br/>def best_promo(order)</pre><pre class=\"function-repr-contents function-repr-contents-collapsed\" style=\"\"><a class=\"filepath\" style=\"display:none\" href=\"#\">/content/&lt;ipython-input-21-7771877db6f4&gt;</a>&lt;no docstring&gt;</pre></div>"
            ]
          },
          "metadata": {},
          "execution_count": 26
        }
      ]
    },
    {
      "cell_type": "code",
      "source": [
        "promos = [globals()[name] for name in globals() if name.endswith('_promo') and name != 'best_promo']\n",
        "promos"
      ],
      "metadata": {
        "colab": {
          "base_uri": "https://localhost:8080/"
        },
        "id": "fSZAmMNjeB6A",
        "outputId": "a57ab9fb-250d-4efb-a07c-7ee801f8ea86"
      },
      "execution_count": 27,
      "outputs": [
        {
          "output_type": "execute_result",
          "data": {
            "text/plain": [
              "[<function __main__.fidelity_promo(order)>,\n",
              " <function __main__.bulk_item_promo(order)>,\n",
              " <function __main__.large_order_promo(order)>]"
            ]
          },
          "metadata": {},
          "execution_count": 27
        }
      ]
    },
    {
      "cell_type": "code",
      "source": [
        "def deco(func):\n",
        "  def inner():\n",
        "    print('running inner()')\n",
        "  return inner"
      ],
      "metadata": {
        "id": "_A2tWHzUeQV6"
      },
      "execution_count": 28,
      "outputs": []
    },
    {
      "cell_type": "code",
      "source": [
        "@deco\n",
        "def target():\n",
        "  print('running target()')\n",
        "\n",
        "target()"
      ],
      "metadata": {
        "colab": {
          "base_uri": "https://localhost:8080/"
        },
        "id": "OpsuwZk6eWOH",
        "outputId": "14d23df6-2ac2-4716-fdc9-a202319e1df9"
      },
      "execution_count": 29,
      "outputs": [
        {
          "output_type": "stream",
          "name": "stdout",
          "text": [
            "running inner()\n"
          ]
        }
      ]
    },
    {
      "cell_type": "code",
      "source": [
        "target"
      ],
      "metadata": {
        "colab": {
          "base_uri": "https://localhost:8080/",
          "height": 103
        },
        "id": "zFY_vmxmedRE",
        "outputId": "83bea391-6360-47e4-d35e-3da95dfdd81c"
      },
      "execution_count": 30,
      "outputs": [
        {
          "output_type": "execute_result",
          "data": {
            "text/plain": [
              "<function __main__.deco.<locals>.inner()>"
            ],
            "text/html": [
              "<div style=\"max-width:800px; border: 1px solid var(--colab-border-color);\"><style>\n",
              "      pre.function-repr-contents {\n",
              "        overflow-x: auto;\n",
              "        padding: 8px 12px;\n",
              "        max-height: 500px;\n",
              "      }\n",
              "\n",
              "      pre.function-repr-contents.function-repr-contents-collapsed {\n",
              "        cursor: pointer;\n",
              "        max-height: 100px;\n",
              "      }\n",
              "    </style>\n",
              "    <pre style=\"white-space: initial; background:\n",
              "         var(--colab-secondary-surface-color); padding: 8px 12px;\n",
              "         border-bottom: 1px solid var(--colab-border-color);\"><b>deco.&lt;locals&gt;.inner</b><br/>def inner()</pre><pre class=\"function-repr-contents function-repr-contents-collapsed\" style=\"\"><a class=\"filepath\" style=\"display:none\" href=\"#\">/content/&lt;ipython-input-28-c365867b0a97&gt;</a>&lt;no docstring&gt;</pre></div>"
            ]
          },
          "metadata": {},
          "execution_count": 30
        }
      ]
    },
    {
      "cell_type": "code",
      "source": [
        "registry = []\n",
        "\n",
        "def register(func):\n",
        "  print('running register(%s)' % func)\n",
        "  registry.append(func)\n",
        "  return func\n",
        "\n",
        "@register\n",
        "def f1():\n",
        "  print('running f1()')\n",
        "\n",
        "@register\n",
        "def f2():\n",
        "  print('running f2()')\n",
        "\n",
        "def f3():\n",
        "  print('running f3()')\n",
        "\n",
        "def main():\n",
        "  print('running main()')\n",
        "  print('registry ->', registry)\n",
        "  f1()\n",
        "  f2()\n",
        "  f3()\n",
        "\n",
        "if __name__ == '__main__':\n",
        "  main()"
      ],
      "metadata": {
        "colab": {
          "base_uri": "https://localhost:8080/"
        },
        "id": "cWdQ8gl2gaPi",
        "outputId": "734deafb-190d-4a32-ec09-b1092b186bcc"
      },
      "execution_count": 31,
      "outputs": [
        {
          "output_type": "stream",
          "name": "stdout",
          "text": [
            "running register(<function f1 at 0x7ca05205e7a0>)\n",
            "running register(<function f2 at 0x7ca05205e830>)\n",
            "running main()\n",
            "registry -> [<function f1 at 0x7ca05205e7a0>, <function f2 at 0x7ca05205e830>]\n",
            "running f1()\n",
            "running f2()\n",
            "running f3()\n"
          ]
        }
      ]
    },
    {
      "cell_type": "code",
      "source": [
        "promos = []\n",
        "\n",
        "def promotion(promo_func):\n",
        "  promos.append(promo_func)\n",
        "  return promo_func\n",
        "\n",
        "@promotion\n",
        "def fidelity_promo(order):\n",
        "  return order.total() * 0.05 if order.customer.fidelity >= 1000 else 0\n",
        "\n",
        "@promotion\n",
        "def bulk_item_promo(order):\n",
        "  discount = 0\n",
        "  for item in order.cart:\n",
        "    if item.quantity >= 20:\n",
        "      discount += item.total() * 0.1\n",
        "  return discount\n",
        "\n",
        "@promotion\n",
        "def large_order_promo(order):\n",
        "  distinct_items = {item.product for item in order.cart}\n",
        "  if len(distinct_items) >= 10:\n",
        "    return order.total() * 0.07\n",
        "  return 0\n",
        "\n",
        "def best_promo(order):\n",
        "  return max(promo(order) for promo in promos)"
      ],
      "metadata": {
        "id": "AGVsbuw1hZJA"
      },
      "execution_count": 32,
      "outputs": []
    },
    {
      "cell_type": "code",
      "source": [
        "def f1(a):\n",
        "  print(a)\n",
        "  print(b)\n",
        "\n",
        "f1(3)"
      ],
      "metadata": {
        "colab": {
          "base_uri": "https://localhost:8080/",
          "height": 327
        },
        "id": "hBCTCx9Qhbrv",
        "outputId": "56066661-0c06-4825-b39f-e1c6f2df9d82"
      },
      "execution_count": 33,
      "outputs": [
        {
          "output_type": "stream",
          "name": "stdout",
          "text": [
            "3\n"
          ]
        },
        {
          "output_type": "error",
          "ename": "NameError",
          "evalue": "name 'b' is not defined",
          "traceback": [
            "\u001b[0;31m---------------------------------------------------------------------------\u001b[0m",
            "\u001b[0;31mNameError\u001b[0m                                 Traceback (most recent call last)",
            "\u001b[0;32m<ipython-input-33-d91d6586b140>\u001b[0m in \u001b[0;36m<cell line: 5>\u001b[0;34m()\u001b[0m\n\u001b[1;32m      3\u001b[0m   \u001b[0mprint\u001b[0m\u001b[0;34m(\u001b[0m\u001b[0mb\u001b[0m\u001b[0;34m)\u001b[0m\u001b[0;34m\u001b[0m\u001b[0;34m\u001b[0m\u001b[0m\n\u001b[1;32m      4\u001b[0m \u001b[0;34m\u001b[0m\u001b[0m\n\u001b[0;32m----> 5\u001b[0;31m \u001b[0mf1\u001b[0m\u001b[0;34m(\u001b[0m\u001b[0;36m3\u001b[0m\u001b[0;34m)\u001b[0m\u001b[0;34m\u001b[0m\u001b[0;34m\u001b[0m\u001b[0m\n\u001b[0m",
            "\u001b[0;32m<ipython-input-33-d91d6586b140>\u001b[0m in \u001b[0;36mf1\u001b[0;34m(a)\u001b[0m\n\u001b[1;32m      1\u001b[0m \u001b[0;32mdef\u001b[0m \u001b[0mf1\u001b[0m\u001b[0;34m(\u001b[0m\u001b[0ma\u001b[0m\u001b[0;34m)\u001b[0m\u001b[0;34m:\u001b[0m\u001b[0;34m\u001b[0m\u001b[0;34m\u001b[0m\u001b[0m\n\u001b[1;32m      2\u001b[0m   \u001b[0mprint\u001b[0m\u001b[0;34m(\u001b[0m\u001b[0ma\u001b[0m\u001b[0;34m)\u001b[0m\u001b[0;34m\u001b[0m\u001b[0;34m\u001b[0m\u001b[0m\n\u001b[0;32m----> 3\u001b[0;31m   \u001b[0mprint\u001b[0m\u001b[0;34m(\u001b[0m\u001b[0mb\u001b[0m\u001b[0;34m)\u001b[0m\u001b[0;34m\u001b[0m\u001b[0;34m\u001b[0m\u001b[0m\n\u001b[0m\u001b[1;32m      4\u001b[0m \u001b[0;34m\u001b[0m\u001b[0m\n\u001b[1;32m      5\u001b[0m \u001b[0mf1\u001b[0m\u001b[0;34m(\u001b[0m\u001b[0;36m3\u001b[0m\u001b[0;34m)\u001b[0m\u001b[0;34m\u001b[0m\u001b[0;34m\u001b[0m\u001b[0m\n",
            "\u001b[0;31mNameError\u001b[0m: name 'b' is not defined"
          ]
        }
      ]
    },
    {
      "cell_type": "code",
      "source": [
        "b = 6\n",
        "f1(3)"
      ],
      "metadata": {
        "id": "hNso0AFOhix1"
      },
      "execution_count": null,
      "outputs": []
    },
    {
      "cell_type": "code",
      "source": [
        "b = 6\n",
        "def f2(a):\n",
        "  print(a)\n",
        "  print(b)\n",
        "  b=9\n",
        "\n",
        "f2(3)"
      ],
      "metadata": {
        "id": "qeeHf1cRhn01"
      },
      "execution_count": null,
      "outputs": []
    },
    {
      "cell_type": "code",
      "source": [
        "b=6\n",
        "def f3(a):\n",
        "  global b\n",
        "  print(a)\n",
        "  print(b)\n",
        "  b = 9\n",
        "\n",
        "f3(3)"
      ],
      "metadata": {
        "id": "zvKK9VNRhv76"
      },
      "execution_count": null,
      "outputs": []
    },
    {
      "cell_type": "code",
      "source": [
        "b"
      ],
      "metadata": {
        "id": "blFUkaDuh46B"
      },
      "execution_count": null,
      "outputs": []
    },
    {
      "cell_type": "code",
      "source": [
        "f3(3)"
      ],
      "metadata": {
        "id": "laHI0gLXh2Qy"
      },
      "execution_count": null,
      "outputs": []
    },
    {
      "cell_type": "code",
      "source": [
        "b= 30\n",
        "f3(3)"
      ],
      "metadata": {
        "id": "3-pvUmjYiEoJ"
      },
      "execution_count": null,
      "outputs": []
    },
    {
      "cell_type": "code",
      "source": [
        "class Averager():\n",
        "  def __init__(self):\n",
        "    self.series = []\n",
        "\n",
        "  def __call__(self, new_value):\n",
        "    self.series.append(new_value)\n",
        "    total = sum(self.series)\n",
        "    return total/len(self.series)"
      ],
      "metadata": {
        "id": "J8PG4u_pizbG"
      },
      "execution_count": null,
      "outputs": []
    },
    {
      "cell_type": "code",
      "source": [
        "avg = Averager()\n",
        "avg(10)"
      ],
      "metadata": {
        "id": "Ih9F3Y4IiT_Y"
      },
      "execution_count": null,
      "outputs": []
    },
    {
      "cell_type": "code",
      "source": [
        "avg(11)"
      ],
      "metadata": {
        "id": "qXc628s3igZH"
      },
      "execution_count": null,
      "outputs": []
    },
    {
      "cell_type": "code",
      "source": [
        "avg(12)"
      ],
      "metadata": {
        "id": "XMw3GUAOihnv"
      },
      "execution_count": null,
      "outputs": []
    },
    {
      "cell_type": "code",
      "source": [
        "def make_averager():\n",
        "  series = []\n",
        "\n",
        "  def averager(new_value):\n",
        "    series.append(new_value)\n",
        "    total = sum(series)\n",
        "    return total/len(series)\n",
        "\n",
        "  return averager"
      ],
      "metadata": {
        "id": "Cvx1hCGui_kg"
      },
      "execution_count": null,
      "outputs": []
    },
    {
      "cell_type": "code",
      "source": [
        "avg = make_averager()\n",
        "avg(10)"
      ],
      "metadata": {
        "id": "a1q3wGrEjA3C"
      },
      "execution_count": null,
      "outputs": []
    },
    {
      "cell_type": "code",
      "source": [
        "avg(11)"
      ],
      "metadata": {
        "id": "xv4Ko3ZujOu2"
      },
      "execution_count": null,
      "outputs": []
    },
    {
      "cell_type": "code",
      "source": [
        "avg(12)"
      ],
      "metadata": {
        "id": "cpzM-8nnjQV9"
      },
      "execution_count": null,
      "outputs": []
    },
    {
      "cell_type": "code",
      "source": [
        "avg.__code__.co_varnames"
      ],
      "metadata": {
        "id": "enuC_YwPjSNu"
      },
      "execution_count": null,
      "outputs": []
    },
    {
      "cell_type": "code",
      "source": [
        "avg.__code__.co_freevars"
      ],
      "metadata": {
        "id": "xvITPwdgjVxP"
      },
      "execution_count": null,
      "outputs": []
    },
    {
      "cell_type": "code",
      "source": [
        "avg.__closure__"
      ],
      "metadata": {
        "id": "OvBlUuJljavo"
      },
      "execution_count": null,
      "outputs": []
    },
    {
      "cell_type": "code",
      "source": [
        "avg.__closure__[0].cell_contents"
      ],
      "metadata": {
        "id": "ZOHSIxegjcml"
      },
      "execution_count": null,
      "outputs": []
    },
    {
      "cell_type": "code",
      "source": [
        "def make_averager():\n",
        "  count = 0\n",
        "  total = 0\n",
        "\n",
        "  def averager(new_value):\n",
        "    count += 1\n",
        "    total += new_value\n",
        "    return total / count\n",
        "\n",
        "  return averager"
      ],
      "metadata": {
        "id": "qr4m4vxijmTU"
      },
      "execution_count": null,
      "outputs": []
    },
    {
      "cell_type": "code",
      "source": [
        "avg = make_averager()\n",
        "avg(10)"
      ],
      "metadata": {
        "id": "mbczdt5ijpds"
      },
      "execution_count": null,
      "outputs": []
    },
    {
      "cell_type": "code",
      "source": [
        "def make_averager():\n",
        "  count = 0\n",
        "  total = 0\n",
        "\n",
        "  def averager(new_value):\n",
        "    nonlocal count, total\n",
        "    count += 1\n",
        "    total += new_value\n",
        "    return total / count\n",
        "\n",
        "  return averager"
      ],
      "metadata": {
        "id": "xrwkXep_j0TW"
      },
      "execution_count": null,
      "outputs": []
    },
    {
      "cell_type": "code",
      "source": [
        "avg = make_averager()\n",
        "avg(10)"
      ],
      "metadata": {
        "id": "eW8G1Y0Wj2LA"
      },
      "execution_count": null,
      "outputs": []
    },
    {
      "cell_type": "code",
      "source": [
        "import time\n",
        "\n",
        "def clock(func):\n",
        "  def clocked(*args):\n",
        "    t0 = time.perf_counter()\n",
        "    result = func(*args)\n",
        "    elapsed = time.perf_counter() - t0\n",
        "    name = func.__name__\n",
        "    arg_str = ', '.join(repr(arg) for arg in args)\n",
        "    print('[%0.8fs] %s(%s) -> %r' % (elapsed, name, arg_str, result))\n",
        "    return result\n",
        "  return clocked"
      ],
      "metadata": {
        "id": "IaFIO2xkkPys"
      },
      "execution_count": null,
      "outputs": []
    },
    {
      "cell_type": "code",
      "source": [
        "@clock\n",
        "def snooze(seconds):\n",
        "  time.sleep(seconds)\n",
        "\n",
        "@clock\n",
        "def factorial(n):\n",
        "  return 1 if n < 2 else n*factorial(n-1)\n",
        "\n",
        "if __name__ == '__main__':\n",
        "  print('*' * 40, 'Calling snooze(.123)')\n",
        "  snooze(.123)\n",
        "  print('*' * 40, 'Calling factorial(6)')\n",
        "  print('6! =', factorial(6))"
      ],
      "metadata": {
        "id": "Ux-CFvSDkUoC"
      },
      "execution_count": null,
      "outputs": []
    },
    {
      "cell_type": "code",
      "source": [
        "factorial.__name__"
      ],
      "metadata": {
        "id": "mJTG33vJk96J"
      },
      "execution_count": null,
      "outputs": []
    },
    {
      "cell_type": "code",
      "source": [
        "import time\n",
        "import functools\n",
        "\n",
        "def clock(func):\n",
        "  @functools.wraps(func)\n",
        "  def clocked(*args, **kwargs):\n",
        "    t0 = time.perf_counter()\n",
        "    result = func(*args, **kwargs)\n",
        "    elapsed = time.perf_counter() - t0\n",
        "    arg_lst = []\n",
        "    name = func.__name__\n",
        "    if args:\n",
        "      arg_lst.append(', '.join(repr(arg) for arg in args))\n",
        "    if kwargs:\n",
        "      pairs = ['%s=%r' % (k, w) for k, w in sorted(kwargs.items())]\n",
        "      arg_lst.append(', '.join(pairs))\n",
        "    arg_str = ', '.join(arg_lst)\n",
        "    print('[%0.8fs] %s(%s) -> %r' % (elapsed, name, arg_str, result))\n",
        "    return result\n",
        "  return clocked"
      ],
      "metadata": {
        "id": "RbhQB_LMldT9"
      },
      "execution_count": null,
      "outputs": []
    },
    {
      "cell_type": "code",
      "source": [
        "@clock\n",
        "def snooze(seconds):\n",
        "  time.sleep(seconds)\n",
        "\n",
        "@clock\n",
        "def factorial(n):\n",
        "  return 1 if n < 2 else n*factorial(n-1)\n",
        "\n",
        "if __name__ == '__main__':\n",
        "  print('*' * 40, 'Calling snooze(.123)')\n",
        "  snooze(.123)\n",
        "  print('*' * 40, 'Calling factorial(6)')\n",
        "  print('6! =', factorial(6))"
      ],
      "metadata": {
        "id": "pyiEy-c2lpFr"
      },
      "execution_count": null,
      "outputs": []
    }
  ]
}
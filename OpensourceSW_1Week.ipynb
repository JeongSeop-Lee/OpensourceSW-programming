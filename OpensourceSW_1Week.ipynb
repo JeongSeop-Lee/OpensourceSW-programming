{
  "nbformat": 4,
  "nbformat_minor": 0,
  "metadata": {
    "colab": {
      "provenance": []
    },
    "kernelspec": {
      "name": "python3",
      "display_name": "Python 3"
    },
    "language_info": {
      "name": "python"
    }
  },
  "cells": [
    {
      "cell_type": "code",
      "execution_count": 1,
      "metadata": {
        "colab": {
          "base_uri": "https://localhost:8080/"
        },
        "id": "DXs3rrz0j-iy",
        "outputId": "d39e42ba-2665-4b1b-adca-00ceb1e4e001"
      },
      "outputs": [
        {
          "output_type": "stream",
          "name": "stdout",
          "text": [
            "Value for 3\n",
            "Value for 3\n"
          ]
        }
      ],
      "source": [
        "#예제1\n",
        "#__getitem__() 구현\n",
        "\n",
        "class Mycollection:\n",
        "  def __getitem__(self,key):\n",
        "    return f\"Value for {key}\"\n",
        "\n",
        "collection = Mycollection()\n",
        "print(collection.__getitem__(3))\n",
        "print(collection[3])"
      ]
    },
    {
      "cell_type": "code",
      "source": [
        "#예제1\n",
        "#__getitem__()과 __len__()구현\n",
        "\n",
        "import collections\n",
        "\n",
        "Card = collections.namedtuple('Card',['rank','suit'])\n",
        "# 튜플객체명 = collections.namedtuple('객체이름',['특성들'])\n",
        "\n",
        "class FrenchDeck:\n",
        "  ranks = [str(n) for n in range(2,11)] + list('JQKA') #2~10, J, Q, K, A\n",
        "  suits = 'spades diamonds clubs hearts'.split()\n",
        "\n",
        "  def __init__(self):\n",
        "    self._cards = [Card(rank, suit) for suit in self.suits\n",
        "                    for rank in self.ranks]\n",
        "\n",
        "  def __len__(self):\n",
        "    return len(self._cards)\n",
        "\n",
        "  def __getitem__(self, position):\n",
        "    return self._cards[position]"
      ],
      "metadata": {
        "id": "4xcJKy84mN5y"
      },
      "execution_count": 3,
      "outputs": []
    },
    {
      "cell_type": "code",
      "source": [
        "#예제3\n",
        "\n",
        "beer_card = Card('7', 'diamonds')\n",
        "beer_card"
      ],
      "metadata": {
        "colab": {
          "base_uri": "https://localhost:8080/"
        },
        "id": "ef8s8j60maJi",
        "outputId": "a765ce0e-1265-40e9-c235-f556ebd20671"
      },
      "execution_count": 4,
      "outputs": [
        {
          "output_type": "execute_result",
          "data": {
            "text/plain": [
              "Card(rank='7', suit='diamonds')"
            ]
          },
          "metadata": {},
          "execution_count": 4
        }
      ]
    },
    {
      "cell_type": "code",
      "source": [
        "#예제4\n",
        "\n",
        "deck = FrenchDeck()\n",
        "print(f\"Ranks: {deck.ranks}\")\n",
        "print(f\"len: {len(deck)}\")"
      ],
      "metadata": {
        "colab": {
          "base_uri": "https://localhost:8080/"
        },
        "id": "Sqsm55Y3mtCy",
        "outputId": "57b328f7-5a1c-44f8-e972-be96b834a95f"
      },
      "execution_count": 5,
      "outputs": [
        {
          "output_type": "stream",
          "name": "stdout",
          "text": [
            "Ranks: ['2', '3', '4', '5', '6', '7', '8', '9', '10', 'J', 'Q', 'K', 'A']\n",
            "len: 52\n"
          ]
        }
      ]
    },
    {
      "cell_type": "code",
      "source": [
        "#예제5\n",
        "\n",
        "print(deck[0])    #첫번째 카드\n",
        "print(deck[-1])   #마지막 카드"
      ],
      "metadata": {
        "colab": {
          "base_uri": "https://localhost:8080/"
        },
        "id": "qfgDaQHa7JFa",
        "outputId": "b8b2d2b3-bd04-4d2f-b8da-cb9ae91c9770"
      },
      "execution_count": 6,
      "outputs": [
        {
          "output_type": "stream",
          "name": "stdout",
          "text": [
            "Card(rank='2', suit='spades')\n",
            "Card(rank='A', suit='hearts')\n"
          ]
        }
      ]
    },
    {
      "cell_type": "code",
      "source": [
        "#예제6\n",
        "#임의의 카드를 골라내는 메서드 choice\n",
        "\n",
        "from random import choice\n",
        "print(choice(deck))\n",
        "print(choice(deck))\n",
        "print(choice(deck))"
      ],
      "metadata": {
        "colab": {
          "base_uri": "https://localhost:8080/"
        },
        "id": "fUy_bauV7Q55",
        "outputId": "eb17fbb6-564a-427b-8a07-8381405ab52e"
      },
      "execution_count": 7,
      "outputs": [
        {
          "output_type": "stream",
          "name": "stdout",
          "text": [
            "Card(rank='5', suit='spades')\n",
            "Card(rank='J', suit='hearts')\n",
            "Card(rank='2', suit='clubs')\n"
          ]
        }
      ]
    },
    {
      "cell_type": "code",
      "source": [
        "#예제7\n",
        "#__getitem__() 메서드는 슬라이싱(slicing)도 자동 지원\n",
        "\n",
        "deck[:3]"
      ],
      "metadata": {
        "colab": {
          "base_uri": "https://localhost:8080/"
        },
        "id": "9WJV_8Cc7bFx",
        "outputId": "ee084ccf-daa6-48d3-f0b9-df460bf70e72"
      },
      "execution_count": 8,
      "outputs": [
        {
          "output_type": "execute_result",
          "data": {
            "text/plain": [
              "[Card(rank='2', suit='spades'),\n",
              " Card(rank='3', suit='spades'),\n",
              " Card(rank='4', suit='spades')]"
            ]
          },
          "metadata": {},
          "execution_count": 8
        }
      ]
    },
    {
      "cell_type": "code",
      "source": [
        "#예제8\n",
        "\n",
        "deck[12::13]"
      ],
      "metadata": {
        "colab": {
          "base_uri": "https://localhost:8080/"
        },
        "id": "8BPwZE8_7dix",
        "outputId": "70b1683d-c9fb-454f-9e15-b4c245f77cae"
      },
      "execution_count": 9,
      "outputs": [
        {
          "output_type": "execute_result",
          "data": {
            "text/plain": [
              "[Card(rank='A', suit='spades'),\n",
              " Card(rank='A', suit='diamonds'),\n",
              " Card(rank='A', suit='clubs'),\n",
              " Card(rank='A', suit='hearts')]"
            ]
          },
          "metadata": {},
          "execution_count": 9
        }
      ]
    },
    {
      "cell_type": "code",
      "source": [
        "#예제9\n",
        "#__getitem__()을 구현함으로 인해 deck 반복 가능\n",
        "\n",
        "for card in deck:\n",
        "  print(card)"
      ],
      "metadata": {
        "colab": {
          "base_uri": "https://localhost:8080/"
        },
        "id": "We6rKmva7kMR",
        "outputId": "ba9301f8-ccea-4531-e074-702da0615af1"
      },
      "execution_count": 10,
      "outputs": [
        {
          "output_type": "stream",
          "name": "stdout",
          "text": [
            "Card(rank='2', suit='spades')\n",
            "Card(rank='3', suit='spades')\n",
            "Card(rank='4', suit='spades')\n",
            "Card(rank='5', suit='spades')\n",
            "Card(rank='6', suit='spades')\n",
            "Card(rank='7', suit='spades')\n",
            "Card(rank='8', suit='spades')\n",
            "Card(rank='9', suit='spades')\n",
            "Card(rank='10', suit='spades')\n",
            "Card(rank='J', suit='spades')\n",
            "Card(rank='Q', suit='spades')\n",
            "Card(rank='K', suit='spades')\n",
            "Card(rank='A', suit='spades')\n",
            "Card(rank='2', suit='diamonds')\n",
            "Card(rank='3', suit='diamonds')\n",
            "Card(rank='4', suit='diamonds')\n",
            "Card(rank='5', suit='diamonds')\n",
            "Card(rank='6', suit='diamonds')\n",
            "Card(rank='7', suit='diamonds')\n",
            "Card(rank='8', suit='diamonds')\n",
            "Card(rank='9', suit='diamonds')\n",
            "Card(rank='10', suit='diamonds')\n",
            "Card(rank='J', suit='diamonds')\n",
            "Card(rank='Q', suit='diamonds')\n",
            "Card(rank='K', suit='diamonds')\n",
            "Card(rank='A', suit='diamonds')\n",
            "Card(rank='2', suit='clubs')\n",
            "Card(rank='3', suit='clubs')\n",
            "Card(rank='4', suit='clubs')\n",
            "Card(rank='5', suit='clubs')\n",
            "Card(rank='6', suit='clubs')\n",
            "Card(rank='7', suit='clubs')\n",
            "Card(rank='8', suit='clubs')\n",
            "Card(rank='9', suit='clubs')\n",
            "Card(rank='10', suit='clubs')\n",
            "Card(rank='J', suit='clubs')\n",
            "Card(rank='Q', suit='clubs')\n",
            "Card(rank='K', suit='clubs')\n",
            "Card(rank='A', suit='clubs')\n",
            "Card(rank='2', suit='hearts')\n",
            "Card(rank='3', suit='hearts')\n",
            "Card(rank='4', suit='hearts')\n",
            "Card(rank='5', suit='hearts')\n",
            "Card(rank='6', suit='hearts')\n",
            "Card(rank='7', suit='hearts')\n",
            "Card(rank='8', suit='hearts')\n",
            "Card(rank='9', suit='hearts')\n",
            "Card(rank='10', suit='hearts')\n",
            "Card(rank='J', suit='hearts')\n",
            "Card(rank='Q', suit='hearts')\n",
            "Card(rank='K', suit='hearts')\n",
            "Card(rank='A', suit='hearts')\n"
          ]
        }
      ]
    },
    {
      "cell_type": "code",
      "source": [
        "#예제10\n",
        "\n",
        "for card in reversed(deck):\n",
        "  print(card)"
      ],
      "metadata": {
        "colab": {
          "base_uri": "https://localhost:8080/"
        },
        "id": "NVSnmRJC7nka",
        "outputId": "2a4a051a-091b-42ee-b60e-897534ec7cf8"
      },
      "execution_count": 11,
      "outputs": [
        {
          "output_type": "stream",
          "name": "stdout",
          "text": [
            "Card(rank='A', suit='hearts')\n",
            "Card(rank='K', suit='hearts')\n",
            "Card(rank='Q', suit='hearts')\n",
            "Card(rank='J', suit='hearts')\n",
            "Card(rank='10', suit='hearts')\n",
            "Card(rank='9', suit='hearts')\n",
            "Card(rank='8', suit='hearts')\n",
            "Card(rank='7', suit='hearts')\n",
            "Card(rank='6', suit='hearts')\n",
            "Card(rank='5', suit='hearts')\n",
            "Card(rank='4', suit='hearts')\n",
            "Card(rank='3', suit='hearts')\n",
            "Card(rank='2', suit='hearts')\n",
            "Card(rank='A', suit='clubs')\n",
            "Card(rank='K', suit='clubs')\n",
            "Card(rank='Q', suit='clubs')\n",
            "Card(rank='J', suit='clubs')\n",
            "Card(rank='10', suit='clubs')\n",
            "Card(rank='9', suit='clubs')\n",
            "Card(rank='8', suit='clubs')\n",
            "Card(rank='7', suit='clubs')\n",
            "Card(rank='6', suit='clubs')\n",
            "Card(rank='5', suit='clubs')\n",
            "Card(rank='4', suit='clubs')\n",
            "Card(rank='3', suit='clubs')\n",
            "Card(rank='2', suit='clubs')\n",
            "Card(rank='A', suit='diamonds')\n",
            "Card(rank='K', suit='diamonds')\n",
            "Card(rank='Q', suit='diamonds')\n",
            "Card(rank='J', suit='diamonds')\n",
            "Card(rank='10', suit='diamonds')\n",
            "Card(rank='9', suit='diamonds')\n",
            "Card(rank='8', suit='diamonds')\n",
            "Card(rank='7', suit='diamonds')\n",
            "Card(rank='6', suit='diamonds')\n",
            "Card(rank='5', suit='diamonds')\n",
            "Card(rank='4', suit='diamonds')\n",
            "Card(rank='3', suit='diamonds')\n",
            "Card(rank='2', suit='diamonds')\n",
            "Card(rank='A', suit='spades')\n",
            "Card(rank='K', suit='spades')\n",
            "Card(rank='Q', suit='spades')\n",
            "Card(rank='J', suit='spades')\n",
            "Card(rank='10', suit='spades')\n",
            "Card(rank='9', suit='spades')\n",
            "Card(rank='8', suit='spades')\n",
            "Card(rank='7', suit='spades')\n",
            "Card(rank='6', suit='spades')\n",
            "Card(rank='5', suit='spades')\n",
            "Card(rank='4', suit='spades')\n",
            "Card(rank='3', suit='spades')\n",
            "Card(rank='2', suit='spades')\n"
          ]
        }
      ]
    },
    {
      "cell_type": "code",
      "source": [
        "#예제11\n",
        "#정렬\n",
        "\n",
        "suit_values = dict(spades=3, hearts=2, diamonds=1, clubs=0)\n",
        "\n",
        "def spades_high(card):\n",
        "  rank_value = FrenchDeck.ranks.index(card.rank)\n",
        "  return rank_value * len(suit_values) + suit_values[card.suit]\n",
        "\n",
        "spades_high(beer_card)"
      ],
      "metadata": {
        "colab": {
          "base_uri": "https://localhost:8080/"
        },
        "id": "pMbhoX6M-ie5",
        "outputId": "918f36b7-1b0b-4172-aa04-da414fbe3a5a"
      },
      "execution_count": 21,
      "outputs": [
        {
          "output_type": "execute_result",
          "data": {
            "text/plain": [
              "21"
            ]
          },
          "metadata": {},
          "execution_count": 21
        }
      ]
    },
    {
      "cell_type": "code",
      "source": [
        "for card in sorted(deck, key=spades_high):\n",
        "    print('The rank of {} is {}'.format(card, spades_high(card)))"
      ],
      "metadata": {
        "colab": {
          "base_uri": "https://localhost:8080/"
        },
        "id": "iVcdfNZ-_0iz",
        "outputId": "8ab7af0b-a9eb-4652-c3ff-cb24df426144"
      },
      "execution_count": 16,
      "outputs": [
        {
          "output_type": "stream",
          "name": "stdout",
          "text": [
            "The rank of Card(rank='2', suit='clubs') is 0\n",
            "The rank of Card(rank='2', suit='diamonds') is 1\n",
            "The rank of Card(rank='2', suit='hearts') is 2\n",
            "The rank of Card(rank='2', suit='spades') is 3\n",
            "The rank of Card(rank='3', suit='clubs') is 4\n",
            "The rank of Card(rank='3', suit='diamonds') is 5\n",
            "The rank of Card(rank='3', suit='hearts') is 6\n",
            "The rank of Card(rank='3', suit='spades') is 7\n",
            "The rank of Card(rank='4', suit='clubs') is 8\n",
            "The rank of Card(rank='4', suit='diamonds') is 9\n",
            "The rank of Card(rank='4', suit='hearts') is 10\n",
            "The rank of Card(rank='4', suit='spades') is 11\n",
            "The rank of Card(rank='5', suit='clubs') is 12\n",
            "The rank of Card(rank='5', suit='diamonds') is 13\n",
            "The rank of Card(rank='5', suit='hearts') is 14\n",
            "The rank of Card(rank='5', suit='spades') is 15\n",
            "The rank of Card(rank='6', suit='clubs') is 16\n",
            "The rank of Card(rank='6', suit='diamonds') is 17\n",
            "The rank of Card(rank='6', suit='hearts') is 18\n",
            "The rank of Card(rank='6', suit='spades') is 19\n",
            "The rank of Card(rank='7', suit='clubs') is 20\n",
            "The rank of Card(rank='7', suit='diamonds') is 21\n",
            "The rank of Card(rank='7', suit='hearts') is 22\n",
            "The rank of Card(rank='7', suit='spades') is 23\n",
            "The rank of Card(rank='8', suit='clubs') is 24\n",
            "The rank of Card(rank='8', suit='diamonds') is 25\n",
            "The rank of Card(rank='8', suit='hearts') is 26\n",
            "The rank of Card(rank='8', suit='spades') is 27\n",
            "The rank of Card(rank='9', suit='clubs') is 28\n",
            "The rank of Card(rank='9', suit='diamonds') is 29\n",
            "The rank of Card(rank='9', suit='hearts') is 30\n",
            "The rank of Card(rank='9', suit='spades') is 31\n",
            "The rank of Card(rank='10', suit='clubs') is 32\n",
            "The rank of Card(rank='10', suit='diamonds') is 33\n",
            "The rank of Card(rank='10', suit='hearts') is 34\n",
            "The rank of Card(rank='10', suit='spades') is 35\n",
            "The rank of Card(rank='J', suit='clubs') is 36\n",
            "The rank of Card(rank='J', suit='diamonds') is 37\n",
            "The rank of Card(rank='J', suit='hearts') is 38\n",
            "The rank of Card(rank='J', suit='spades') is 39\n",
            "The rank of Card(rank='Q', suit='clubs') is 40\n",
            "The rank of Card(rank='Q', suit='diamonds') is 41\n",
            "The rank of Card(rank='Q', suit='hearts') is 42\n",
            "The rank of Card(rank='Q', suit='spades') is 43\n",
            "The rank of Card(rank='K', suit='clubs') is 44\n",
            "The rank of Card(rank='K', suit='diamonds') is 45\n",
            "The rank of Card(rank='K', suit='hearts') is 46\n",
            "The rank of Card(rank='K', suit='spades') is 47\n",
            "The rank of Card(rank='A', suit='clubs') is 48\n",
            "The rank of Card(rank='A', suit='diamonds') is 49\n",
            "The rank of Card(rank='A', suit='hearts') is 50\n",
            "The rank of Card(rank='A', suit='spades') is 51\n"
          ]
        }
      ]
    },
    {
      "cell_type": "code",
      "source": [
        "#예제12\n",
        "#2차원 유클리드 벡터를 나타내는 클래스 예제\n",
        "import math\n",
        "\n",
        "class Vector:\n",
        "  def __init__(self, x=0, y=0):\n",
        "    self.x = x\n",
        "    self.y = y\n",
        "\n",
        "  def __repr__(self):\n",
        "    return 'Vector{%r, %r}' %  (self.x, self.y)\n",
        "\n",
        "  def __abs__(self):\n",
        "    return math.hypot(self.x, self.y)\n",
        "\n",
        "  def __bool__(self):\n",
        "    return bool(abs(self))\n",
        "\n",
        "  def __add__(self, other):\n",
        "    x = self.x + other.x\n",
        "    y = self.y + other.y\n",
        "    return Vector(x, y)\n",
        "\n",
        "  def __mul__(self, scalar):\n",
        "    return Vector(self.x * scalar, self.y * scalar)"
      ],
      "metadata": {
        "id": "mZl8dS3PAHMp"
      },
      "execution_count": 30,
      "outputs": []
    },
    {
      "cell_type": "code",
      "source": [
        "v = Vector(3, 4)\n",
        "abs(v)"
      ],
      "metadata": {
        "colab": {
          "base_uri": "https://localhost:8080/"
        },
        "id": "dafTEhfRAic3",
        "outputId": "5e32676c-dccb-4ea2-8581-6dc138f0f52c"
      },
      "execution_count": 27,
      "outputs": [
        {
          "output_type": "execute_result",
          "data": {
            "text/plain": [
              "5.0"
            ]
          },
          "metadata": {},
          "execution_count": 27
        }
      ]
    },
    {
      "cell_type": "code",
      "source": [
        "v * 3\n",
        "abs(v * 3)"
      ],
      "metadata": {
        "colab": {
          "base_uri": "https://localhost:8080/"
        },
        "id": "nYLg0cEgCKa6",
        "outputId": "a6f5ac86-c7bc-450f-ac39-243574cf08ca"
      },
      "execution_count": 28,
      "outputs": [
        {
          "output_type": "execute_result",
          "data": {
            "text/plain": [
              "15.0"
            ]
          },
          "metadata": {},
          "execution_count": 28
        }
      ]
    },
    {
      "cell_type": "code",
      "source": [
        "v1 = Vector(2, 4)\n",
        "v2 = Vector(2, 1)\n",
        "v1 + v2"
      ],
      "metadata": {
        "colab": {
          "base_uri": "https://localhost:8080/"
        },
        "id": "HzMiuMUqCPdY",
        "outputId": "f05252c9-5861-43c0-be1c-684d4f897ec2"
      },
      "execution_count": 29,
      "outputs": [
        {
          "output_type": "execute_result",
          "data": {
            "text/plain": [
              "Vector{4, 5}"
            ]
          },
          "metadata": {},
          "execution_count": 29
        }
      ]
    },
    {
      "cell_type": "code",
      "source": [
        "#예제13\n",
        "\n",
        "v"
      ],
      "metadata": {
        "colab": {
          "base_uri": "https://localhost:8080/"
        },
        "id": "09wbX057CUwg",
        "outputId": "07ba25bc-ee5d-460c-ab3e-a9611b0363a7"
      },
      "execution_count": 34,
      "outputs": [
        {
          "output_type": "execute_result",
          "data": {
            "text/plain": [
              "Vector{3, 4}"
            ]
          },
          "metadata": {},
          "execution_count": 34
        }
      ]
    }
  ]
}